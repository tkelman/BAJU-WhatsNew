{
 "cells": [
  {
   "cell_type": "markdown",
   "metadata": {},
   "source": [
    "# What's new in Julia 0.4, and coming in 0.5\n",
    "\n",
    "Tony Kelman, `@tkelman`"
   ]
  },
  {
   "cell_type": "markdown",
   "metadata": {},
   "source": [
    "#1. Package precompilation (https://github.com/JuliaLang/julia/pull/8745 and https://github.com/JuliaLang/julia/pull/12458 and https://github.com/JuliaLang/julia/pull/12491)"
   ]
  },
  {
   "cell_type": "code",
   "execution_count": 1,
   "metadata": {
    "collapsed": false
   },
   "outputs": [
    {
     "name": "stderr",
     "output_type": "stream",
     "text": [
      "INFO: Precompiling module DataStructures...\n"
     ]
    },
    {
     "name": "stdout",
     "output_type": "stream",
     "text": [
      "elapsed time: 10.653973631 seconds\n"
     ]
    }
   ],
   "source": [
    "let cachefile = joinpath(Base.LOAD_CACHE_PATH[1], \"DataStructures.ji\")\n",
    "    isfile(cachefile) && rm(cachefile)\n",
    "end\n",
    "tic()\n",
    "using DataStructures\n",
    "toc();"
   ]
  },
  {
   "cell_type": "code",
   "execution_count": 1,
   "metadata": {
    "collapsed": false
   },
   "outputs": [
    {
     "name": "stdout",
     "output_type": "stream",
     "text": [
      "elapsed time: 0.227078362 seconds\n"
     ]
    }
   ],
   "source": [
    "# restart kernel\n",
    "tic()\n",
    "using DataStructures\n",
    "toc();"
   ]
  },
  {
   "cell_type": "markdown",
   "metadata": {},
   "source": [
    "To use in a package, add\n",
    "```\n",
    "isdefined(Base, :__precompile__) && __precompile__()\n",
    "```\n",
    "before the first `module` in main package source file. If you don't need to support 0.3, then you don't need the `isdefined`.\n",
    "\n",
    "Test carefully first, some things like saving pointers in global variables, or using `eval` don't always work when precompiled."
   ]
  },
  {
   "cell_type": "code",
   "execution_count": 1,
   "metadata": {
    "collapsed": false
   },
   "outputs": [
    {
     "name": "stderr",
     "output_type": "stream",
     "text": [
      "INFO: Recompiling stale cache file C:\\Users\\Tony\\.julia\\lib\\v0.4\\DataStructures.ji for module DataStructures.\n"
     ]
    },
    {
     "name": "stdout",
     "output_type": "stream",
     "text": [
      "elapsed time: 10.371396361 seconds\n"
     ]
    }
   ],
   "source": [
    "# (restart kernel again)\n",
    "# automatically recompiles if package source changes\n",
    "touch(Pkg.dir(\"DataStructures\",\"src\",\"DataStructures.jl\"))\n",
    "tic()\n",
    "using DataStructures\n",
    "toc();"
   ]
  },
  {
   "cell_type": "markdown",
   "metadata": {},
   "source": [
    "#2. New garbage collector (https://github.com/JuliaLang/julia/pull/8699)\n",
    "\n",
    "Code that does a lot of intermediate allocation should be much faster now."
   ]
  },
  {
   "cell_type": "code",
   "execution_count": 2,
   "metadata": {
    "collapsed": false
   },
   "outputs": [
    {
     "name": "stdout",
     "output_type": "stream",
     "text": [
      "  1.508227 seconds (8.39 M allocations: 184.221 MB, 8.78% gc time)\n",
      "  0.607835 seconds (7.26 M allocations: 131.684 MB, 18.09% gc time)\n",
      "  0.603703 seconds (7.26 M allocations: 131.684 MB, 18.74% gc time)\n"
     ]
    }
   ],
   "source": [
    "A = map(BigInt, rand(1:10, 50, 50));\n",
    "@time A^50;\n",
    "@time A^50;\n",
    "@time A^50;"
   ]
  },
  {
   "cell_type": "markdown",
   "metadata": {},
   "source": [
    "Under 0.3:\n",
    "```\n",
    "elapsed time: 2.055229508 seconds (152561404 bytes allocated, 22.03% gc time)\n",
    "elapsed time: 1.159305999 seconds (117920640 bytes allocated, 31.78% gc time)\n",
    "elapsed time: 1.305996277 seconds (117920640 bytes allocated, 42.00% gc time)\n",
    "```"
   ]
  },
  {
   "cell_type": "markdown",
   "metadata": {},
   "source": [
    "#3. Call overloading (https://github.com/JuliaLang/julia/pull/8712)\n",
    "\n",
    "Arbitrary types can be called like functions, not just their constructors"
   ]
  },
  {
   "cell_type": "code",
   "execution_count": null,
   "metadata": {
    "collapsed": false
   },
   "outputs": [],
   "source": [
    "UInt(5)\n",
    "# instead of the now-deprecated\n",
    "uint(5)"
   ]
  },
  {
   "cell_type": "code",
   "execution_count": 3,
   "metadata": {
    "collapsed": false
   },
   "outputs": [
    {
     "data": {
      "text/plain": [
       "5-element Array{Int64,1}:\n",
       "  6\n",
       " 14\n",
       " 24\n",
       " 36\n",
       " 50"
      ]
     },
     "execution_count": 3,
     "metadata": {},
     "output_type": "execute_result"
    }
   ],
   "source": [
    "# often used for \"functor types\" to help with dispatch and inlining, but subject to change again in 0.5\n",
    "# see Jeff Bezanson's JuliaCon and Aug 2015 BAJU talks\n",
    "immutable MultiplierType\n",
    "end\n",
    "Base.call(::Type{MultiplierType}, a, b) = a * b\n",
    "map(MultiplierType, 1:5, 6:10)"
   ]
  },
  {
   "cell_type": "markdown",
   "metadata": {},
   "source": [
    "#4. `@generated` (formerly known as staged) functions (https://github.com/JuliaLang/julia/pull/7474)\n",
    "\n",
    "See Jake Bolewski's JuliaCon talk for more details https://www.youtube.com/watch?v=KAN8zbM659o\n",
    "\n",
    "Conventional macros take expressions as input and return an expression output at parsing time.\n",
    "\n",
    "Generated functions take the types of the inputs, after type inference, and return an expression."
   ]
  },
  {
   "cell_type": "code",
   "execution_count": 4,
   "metadata": {
    "collapsed": false
   },
   "outputs": [
    {
     "name": "stdout",
     "output_type": "stream",
     "text": [
      "foo = :(5 * 9 + 10)\n"
     ]
    }
   ],
   "source": [
    "macro examplemacro(foo)\n",
    "    @show foo\n",
    "    return :(2 * $foo)\n",
    "end\n",
    "@examplemacro (5 * 9 + 10);"
   ]
  },
  {
   "cell_type": "code",
   "execution_count": 5,
   "metadata": {
    "collapsed": false
   },
   "outputs": [
    {
     "data": {
      "text/plain": [
       "110"
      ]
     },
     "execution_count": 5,
     "metadata": {},
     "output_type": "execute_result"
    }
   ],
   "source": [
    "ans"
   ]
  },
  {
   "cell_type": "code",
   "execution_count": 6,
   "metadata": {
    "collapsed": false
   },
   "outputs": [
    {
     "name": "stdout",
     "output_type": "stream",
     "text": [
      "foo = Int64\n"
     ]
    }
   ],
   "source": [
    "@generated function examplegen(foo)\n",
    "    @show foo\n",
    "    if foo == Int\n",
    "        return :(10)\n",
    "    else\n",
    "        return :(15.0)\n",
    "    end\n",
    "end\n",
    "examplegen(5);"
   ]
  },
  {
   "cell_type": "code",
   "execution_count": 7,
   "metadata": {
    "collapsed": false
   },
   "outputs": [
    {
     "data": {
      "text/plain": [
       "10"
      ]
     },
     "execution_count": 7,
     "metadata": {},
     "output_type": "execute_result"
    }
   ],
   "source": [
    "ans"
   ]
  },
  {
   "cell_type": "code",
   "execution_count": 8,
   "metadata": {
    "collapsed": false
   },
   "outputs": [
    {
     "name": "stdout",
     "output_type": "stream",
     "text": [
      "foo = Float64\n"
     ]
    }
   ],
   "source": [
    "examplegen(1.0);"
   ]
  },
  {
   "cell_type": "code",
   "execution_count": 9,
   "metadata": {
    "collapsed": false
   },
   "outputs": [
    {
     "data": {
      "text/plain": [
       "15.0"
      ]
     },
     "execution_count": 9,
     "metadata": {},
     "output_type": "execute_result"
    }
   ],
   "source": [
    "ans"
   ]
  },
  {
   "cell_type": "code",
   "execution_count": 10,
   "metadata": {
    "collapsed": false
   },
   "outputs": [
    {
     "data": {
      "text/plain": [
       "15.0"
      ]
     },
     "execution_count": 10,
     "metadata": {},
     "output_type": "execute_result"
    }
   ],
   "source": [
    "# generated functions cache their results each time they are called on a given set of input types!\n",
    "examplegen(1.0) # returns cached result, does not @show Float64 again"
   ]
  },
  {
   "cell_type": "markdown",
   "metadata": {},
   "source": [
    "#5. Documentation system, Andy Hayden just talked about it\n",
    "\n",
    "Docstrings now shown in REPL help for package and user code"
   ]
  },
  {
   "cell_type": "code",
   "execution_count": 11,
   "metadata": {
    "collapsed": false
   },
   "outputs": [
    {
     "data": {
      "text/plain": [
       "yaydocs (generic function with 1 method)"
      ]
     },
     "execution_count": 11,
     "metadata": {},
     "output_type": "execute_result"
    }
   ],
   "source": [
    "\"My awesome new function\"\n",
    "yaydocs(a) = 1.0"
   ]
  },
  {
   "cell_type": "code",
   "execution_count": 12,
   "metadata": {
    "collapsed": false
   },
   "outputs": [
    {
     "name": "stdout",
     "output_type": "stream",
     "text": [
      "search: "
     ]
    },
    {
     "data": {
      "text/latex": [
       "My awesome new function\n"
      ],
      "text/markdown": [
       "My awesome new function\n"
      ],
      "text/plain": [
       "My awesome new function\n"
      ]
     },
     "execution_count": 12,
     "metadata": {},
     "output_type": "execute_result"
    },
    {
     "name": "stdout",
     "output_type": "stream",
     "text": [
      "yaydocs\n",
      "\n"
     ]
    }
   ],
   "source": [
    "?yaydocs"
   ]
  },
  {
   "cell_type": "markdown",
   "metadata": {},
   "source": [
    "#6. Performance and usability improvements to multidimensional `AbstractArray`s (https://github.com/JuliaLang/julia/issues/7941 and https://github.com/JuliaLang/julia/pull/8432 and https://github.com/JuliaLang/julia/issues/8501 and https://github.com/JuliaLang/julia/pull/10525)\n",
    "\n",
    "- Fast array views built on `@generated` functions.\n",
    "- `eachindex` iterator for fast Cartesian indexing.\n",
    "- Arbitrary `AbstractArray` types just need to implement `size` and one of the following `getindex` methods, then all other combinations of vector, slice, and other \"fancy\" indexing are handled automatically.\n",
    "```\n",
    "getindex(::T, ::Int) # if linearindexing(T) == LinearFast()\n",
    "getindex(::T, ::Int, ::Int, #=...ndims(A) indices...=#) if LinearSlow()\n",
    "```"
   ]
  },
  {
   "cell_type": "markdown",
   "metadata": {},
   "source": [
    "#7. Nullable types (https://github.com/JuliaLang/julia/issues/8152)\n",
    "\n",
    "Parametric wrapper around a type with a boolean flag to indicate missing data.\n",
    "\n",
    "Allows type stable operation in the presence of missing data (see John Myles White's talk)."
   ]
  },
  {
   "cell_type": "markdown",
   "metadata": {},
   "source": [
    "#8. Tuple type improvements (https://github.com/JuliaLang/julia/pull/10380)\n",
    "\n",
    "Tuples of values `(a, b, c)` now completely separate from types of tuples, `Tuple{Int, Float64, ASCIIString}`.\n",
    "\n",
    "Faster implementation, value tuples very useful now as immutable containers."
   ]
  },
  {
   "cell_type": "markdown",
   "metadata": {},
   "source": [
    "#9. Better interoperability between Julia types and C structs (https://github.com/JuliaLang/julia/pull/2818 and https://github.com/JuliaLang/julia/pull/7906)\n",
    "\n",
    "Noticeable if you use `ccall` a lot, new `Ref{T}` syntax for by-reference passing."
   ]
  },
  {
   "cell_type": "markdown",
   "metadata": {},
   "source": [
    "## Ongoing work on master for 0.5"
   ]
  },
  {
   "cell_type": "markdown",
   "metadata": {},
   "source": [
    "#1. LibGit2-based package manager rewrite (https://github.com/JuliaLang/julia/pull/11196)\n",
    "\n",
    "Uses embedded C libgit2 library instead of shelling out to command-line git.\n",
    "Keeps much more information in memory, needs less IO for Pkg operations, much faster."
   ]
  },
  {
   "cell_type": "markdown",
   "metadata": {},
   "source": [
    "#2. Codegen rewrite (https://github.com/JuliaLang/julia/pull/11973)\n",
    "\n",
    "Not user visible, but improves maintainability and internal structure of core Julia-LLVM interfaces."
   ]
  },
  {
   "cell_type": "markdown",
   "metadata": {},
   "source": [
    "#3. New unit test system (https://github.com/JuliaLang/julia/pull/13062)\n",
    "\n",
    "Extends `Base.Test` with some features that are currently found in FactCheck.jl (http://github.com/JuliaLang/FactCheck.jl).\n",
    "\n",
    "- Grouping tests in labeled test sets\n",
    "- Run all tests to completion and provide summary when finished, instead of failing right away"
   ]
  },
  {
   "cell_type": "markdown",
   "metadata": {},
   "source": [
    "#4. Multithreading (https://github.com/JuliaLang/julia/pull/13410)\n",
    "\n",
    "Simple single-node parallelism via `@threads` macro.\n",
    "\n",
    "Will need a non-default build flag at first, depends on newer version of LLVM."
   ]
  },
  {
   "cell_type": "markdown",
   "metadata": {},
   "source": [
    "#5. LLVM upgrade (https://github.com/JuliaLang/julia/issues/9336)\n",
    "\n",
    "Needed for multithreading, Cxx.jl, Gallium.jl debugger, etc.\n",
    "\n",
    "Better runtime performance and vectorization support.\n",
    "\n",
    "Several patches and more work still needed to maintain debug info, compile time performance, and memory consumption."
   ]
  },
  {
   "cell_type": "markdown",
   "metadata": {},
   "source": [
    "#6. Major breaking array changes (https://github.com/JuliaLang/julia/issues/13157)\n",
    "\n",
    "Slices as views, transpose type, dropping dimensions indexed with a scalar"
   ]
  }
 ],
 "metadata": {
  "kernelspec": {
   "display_name": "Julia 0.4.0-rc3",
   "language": "julia",
   "name": "julia-0.4"
  },
  "language_info": {
   "file_extension": ".jl",
   "mimetype": "application/julia",
   "name": "julia",
   "version": "0.4.0"
  }
 },
 "nbformat": 4,
 "nbformat_minor": 0
}
